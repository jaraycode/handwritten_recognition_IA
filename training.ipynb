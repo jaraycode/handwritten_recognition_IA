{
 "cells": [
  {
   "cell_type": "markdown",
   "metadata": {},
   "source": [
    "# Modelo de reconocimiento de letras\n",
    "\n",
    "Por medio del uso del dataset que se encuentra en [keggle](https://www.kaggle.com/datasets/landlord/handwriting-recognition?resource=download), se desea construir un modelo de inteligencia artificial que proporcione la capacidad de analizar entrada de escritura a mano por medio de una entrada por mouse (Para esto se usará tensorflow.js que permite exportar el modelo para usarlo en el navegador de forma sencilla).\n",
    "\n",
    "## Entrenamiento de dígitos\n",
    "\n",
    "Para poder entrenar el modelo en el reconocimiento de letras individuales se usará la base de datos [EMNIST](https://www.kaggle.com/datasets/crawford/emnist?resource=download) lo cual nos ayudará a posteriormente entrenar el model en identificar las letras de cada uno de las palabras. Por lo cual será necesario el uso de los siguientes paquetes para crear y entrenar el modelo."
   ]
  },
  {
   "cell_type": "code",
   "execution_count": 15,
   "metadata": {},
   "outputs": [],
   "source": [
    "import os\n",
    "import tensorflow_datasets as tfds\n",
    "import matplotlib.pyplot as plt\n",
    "import pandas as pd\n",
    "import numpy as np\n",
    "import tensorflow as tf\n",
    "from tf_keras import layers, losses, models, metrics\n",
    "DATASET_JONAS = \"dataset/archive\"\n",
    "DATASET_JONAS2 = \"dataset/second\"\n",
    "DATASET_EMNIST = \"https://biometrics.nist.gov/cs_links/EMNIST/gzip.zip\"\n",
    "np.set_printoptions(precision=3, suppress=True)"
   ]
  },
  {
   "cell_type": "markdown",
   "metadata": {},
   "source": [
    "### Funciones de normalización\n",
    "\n",
    "Estas funciones nos ayudarán a poder realizar acciones que pueden ser repetidas varias veces, ya sea entrenando el modelo o incluso normalizando la información para poder entrenar al modelo."
   ]
  },
  {
   "cell_type": "code",
   "execution_count": 16,
   "metadata": {},
   "outputs": [],
   "source": [
    "def normalize(image):\n",
    "    return image/255.\n",
    "\n",
    "def norm2(images):\n",
    "    aux = []\n",
    "    for i in range(0,images.__len__()):\n",
    "        aux.append(images.iloc[i].to_numpy().reshape([28,28]))\n",
    "    return aux\n",
    "\n",
    "def norm(value, label):\n",
    "    val = tf.cast(value, tf.float32)\n",
    "    val = tf.expand_dims(val, axis=-1)\n",
    "    return val, label\n",
    "\n",
    "def grafic(modelo):\n",
    "    plt.xlabel(\"Épocas\")\n",
    "    plt.ylabel(\"Pérdida\")\n",
    "    plt.plot(modelo.history[\"loss\"], label=\"Datos de entrenamiento\")\n",
    "    plt.plot(modelo.history[\"val_loss\"], label=\"Datos de prueba\")\n",
    "    plt.legend(loc=\"upper right\")\n",
    "    plt.ylim([0,1])\n",
    "    plt.show()"
   ]
  },
  {
   "cell_type": "markdown",
   "metadata": {},
   "source": [
    "### Arquitectura del modelo\n",
    "\n",
    "El modelo sigue la estructura de perceptrón multicapa (MLP) donde se tiene "
   ]
  },
  {
   "cell_type": "code",
   "execution_count": 17,
   "metadata": {},
   "outputs": [
    {
     "name": "stdout",
     "output_type": "stream",
     "text": [
      "Model: \"sequential\"\n",
      "_________________________________________________________________\n",
      " Layer (type)                Output Shape              Param #   \n",
      "=================================================================\n",
      " flatten (Flatten)           (None, 784)               0         \n",
      "                                                                 \n",
      " dense (Dense)               (None, 125)               98125     \n",
      "                                                                 \n",
      " dropout (Dropout)           (None, 125)               0         \n",
      "                                                                 \n",
      " dense_1 (Dense)             (None, 125)               15750     \n",
      "                                                                 \n",
      " dropout_1 (Dropout)         (None, 125)               0         \n",
      "                                                                 \n",
      " dense_2 (Dense)             (None, 125)               15750     \n",
      "                                                                 \n",
      " dropout_2 (Dropout)         (None, 125)               0         \n",
      "                                                                 \n",
      " dense_3 (Dense)             (None, 27)                3402      \n",
      "                                                                 \n",
      "=================================================================\n",
      "Total params: 133027 (519.64 KB)\n",
      "Trainable params: 133027 (519.64 KB)\n",
      "Non-trainable params: 0 (0.00 Byte)\n",
      "_________________________________________________________________\n"
     ]
    }
   ],
   "source": [
    "# Modelo\n",
    "m = models.Sequential(layers=[\n",
    "    layers.Flatten(input_shape=(28,28,)),\n",
    "    layers.Dense(125, activation='relu'),\n",
    "    layers.Dropout(0.03),\n",
    "    layers.Dense(125, activation='relu'),\n",
    "    layers.Dropout(0.03),\n",
    "    layers.Dense(125, activation='relu'),\n",
    "    layers.Dropout(0.03),\n",
    "    layers.Dense(27, activation='softmax')])\n",
    "\n",
    "m.compile(optimizer='adam', loss=losses.SparseCategoricalCrossentropy(from_logits=True), metrics=[metrics.SparseCategoricalAccuracy()])\n",
    "m.summary()"
   ]
  },
  {
   "cell_type": "code",
   "execution_count": 18,
   "metadata": {},
   "outputs": [
    {
     "name": "stderr",
     "output_type": "stream",
     "text": [
      "2024-05-31 11:49:23.074152: W external/local_tsl/tsl/framework/cpu_allocator_impl.cc:83] Allocation of 278476800 exceeds 10% of free system memory.\n"
     ]
    },
    {
     "data": {
      "text/plain": [
       "<tf.Tensor: shape=(88800,), dtype=int32, numpy=array([15, 26, 15, ..., 13,  8, 15], dtype=int32)>"
      ]
     },
     "execution_count": 18,
     "metadata": {},
     "output_type": "execute_result"
    }
   ],
   "source": [
    "df_train = pd.read_csv(os.path.join(DATASET_JONAS2, \"emnist-letters-train.csv\"), header=None)\n",
    "df_train = df_train.sample(frac=1)\n",
    "df_train_label = df_train.pop(0)\n",
    "num_train = df_train.__len__()\n",
    "df_train = df_train.map(normalize)\n",
    "ds_train = tf.convert_to_tensor(norm2(df_train), tf.float32)\n",
    "ds_train_labels = tf.convert_to_tensor(df_train_label.to_numpy(), tf.int32)\n",
    "ds_train_labels"
   ]
  },
  {
   "cell_type": "code",
   "execution_count": 19,
   "metadata": {},
   "outputs": [
    {
     "name": "stderr",
     "output_type": "stream",
     "text": [
      "2024-05-31 11:49:31.128392: W external/local_tsl/tsl/framework/cpu_allocator_impl.cc:83] Allocation of 278476800 exceeds 10% of free system memory.\n"
     ]
    }
   ],
   "source": [
    "df_test = pd.read_csv(os.path.join(DATASET_JONAS2, \"emnist-letters-test.csv\"), header=None)\n",
    "df_test = df_test.sample(frac=1)\n",
    "df_test_label = df_test.pop(0)\n",
    "df_test = df_test.map(normalize)\n",
    "ds_test = tf.convert_to_tensor(norm2(df_train), tf.float32)\n",
    "ds_test_labels = tf.convert_to_tensor(df_train_label.to_numpy(), tf.int32)"
   ]
  },
  {
   "cell_type": "code",
   "execution_count": 20,
   "metadata": {},
   "outputs": [
    {
     "name": "stdout",
     "output_type": "stream",
     "text": [
      "Epoch 1/10\n"
     ]
    },
    {
     "name": "stderr",
     "output_type": "stream",
     "text": [
      "/home/jonasaray/Documents/UCAB/Decimo/Inteligencia artificial/Proyecto/LetterRecognition/venv/lib/python3.12/site-packages/tf_keras/src/backend.py:5729: UserWarning: \"`sparse_categorical_crossentropy` received `from_logits=True`, but the `output` argument was produced by a Softmax activation and thus does not represent logits. Was this intended?\n",
      "  output, from_logits = _get_logits(\n"
     ]
    },
    {
     "name": "stdout",
     "output_type": "stream",
     "text": [
      "2775/2775 [==============================] - 18s 2ms/step - loss: 0.7716 - sparse_categorical_accuracy: 0.7638 - val_loss: 0.4384 - val_sparse_categorical_accuracy: 0.8606\n",
      "Epoch 2/10\n",
      "2775/2775 [==============================] - 5s 2ms/step - loss: 0.4364 - sparse_categorical_accuracy: 0.8601 - val_loss: 0.3112 - val_sparse_categorical_accuracy: 0.8985\n",
      "Epoch 3/10\n",
      "2775/2775 [==============================] - 5s 2ms/step - loss: 0.3659 - sparse_categorical_accuracy: 0.8796 - val_loss: 0.2796 - val_sparse_categorical_accuracy: 0.9056\n",
      "Epoch 4/10\n",
      "2775/2775 [==============================] - 5s 2ms/step - loss: 0.3272 - sparse_categorical_accuracy: 0.8932 - val_loss: 0.2351 - val_sparse_categorical_accuracy: 0.9192\n",
      "Epoch 5/10\n",
      "2775/2775 [==============================] - 5s 2ms/step - loss: 0.3018 - sparse_categorical_accuracy: 0.8992 - val_loss: 0.2274 - val_sparse_categorical_accuracy: 0.9209\n",
      "Epoch 6/10\n",
      "2775/2775 [==============================] - 5s 2ms/step - loss: 0.2785 - sparse_categorical_accuracy: 0.9055 - val_loss: 0.2117 - val_sparse_categorical_accuracy: 0.9248\n",
      "Epoch 7/10\n",
      "2775/2775 [==============================] - 5s 2ms/step - loss: 0.2633 - sparse_categorical_accuracy: 0.9102 - val_loss: 0.1972 - val_sparse_categorical_accuracy: 0.9299\n",
      "Epoch 8/10\n",
      "2775/2775 [==============================] - 5s 2ms/step - loss: 0.2540 - sparse_categorical_accuracy: 0.9120 - val_loss: 0.1958 - val_sparse_categorical_accuracy: 0.9297\n",
      "Epoch 9/10\n",
      "2775/2775 [==============================] - 5s 2ms/step - loss: 0.2402 - sparse_categorical_accuracy: 0.9158 - val_loss: 0.1836 - val_sparse_categorical_accuracy: 0.9342\n",
      "Epoch 10/10\n",
      "2775/2775 [==============================] - 5s 2ms/step - loss: 0.2328 - sparse_categorical_accuracy: 0.9185 - val_loss: 0.1620 - val_sparse_categorical_accuracy: 0.9417\n"
     ]
    }
   ],
   "source": [
    "historial = m.fit(ds_train, ds_train_labels, epochs=10, validation_data=[ds_test, ds_test_labels])"
   ]
  },
  {
   "cell_type": "code",
   "execution_count": 21,
   "metadata": {},
   "outputs": [
    {
     "data": {
      "image/png": "[encoded data removed]",
      "text/plain": [
       "<Figure size 640x480 with 1 Axes>"
      ]
     },
     "metadata": {},
     "output_type": "display_data"
    }
   ],
   "source": [
    "grafic(historial)"
   ]
  },
  {
   "cell_type": "markdown",
   "metadata": {},
   "source": [
    "## Exportando el modelo\n",
    "\n",
    "Una vez que el modelo haya sido entrenado ahora necesitamos exportarlo para hacer uso del mismo dentro del ámbito en desarrollo."
   ]
  },
  {
   "cell_type": "code",
   "execution_count": 23,
   "metadata": {},
   "outputs": [],
   "source": [
    "m.save(filepath=\"trainedModel/handwritting.h5\")"
   ]
  },
  {
   "cell_type": "markdown",
   "metadata": {},
   "source": [
    "## Pruebas\n",
    "\n",
    "Por medio de creación de imagenes podemos verificar que el modelo funciona como esperamos."
   ]
  },
  {
   "cell_type": "code",
   "execution_count": 3,
   "metadata": {},
   "outputs": [],
   "source": [
    "m = models.load_model(\"trainedModel/handwritting.h5\")"
   ]
  },
  {
   "cell_type": "code",
   "execution_count": 6,
   "metadata": {},
   "outputs": [
    {
     "name": "stderr",
     "output_type": "stream",
     "text": [
      "2024-05-06 10:15:33.083017: W external/local_tsl/tsl/framework/cpu_allocator_impl.cc:83] Allocation of 92825600 exceeds 10% of free system memory.\n"
     ]
    },
    {
     "name": "stdout",
     "output_type": "stream",
     "text": [
      "463/463 [==============================] - 5s 688us/step\n"
     ]
    }
   ],
   "source": [
    "prueba = m.predict(df_test)"
   ]
  },
  {
   "cell_type": "code",
   "execution_count": 11,
   "metadata": {},
   "outputs": [
    {
     "name": "stdout",
     "output_type": "stream",
     "text": [
      "n\n"
     ]
    }
   ],
   "source": [
    "LETTERS = ['a','b','c','d','e','f','g','h','i','j','k','l','m','n','o','p','q','r','s','t','u','v','w','x','y','z']\n",
    "index = np.argmax(prueba[1269])\n",
    "print(LETTERS[index-1])"
   ]
  }
 ],
 "metadata": {
  "kernelspec": {
   "display_name": "venv",
   "language": "python",
   "name": "python3"
  },
  "language_info": {
   "codemirror_mode": {
    "name": "ipython",
    "version": 3
   },
   "file_extension": ".py",
   "mimetype": "text/x-python",
   "name": "python",
   "nbconvert_exporter": "python",
   "pygments_lexer": "ipython3",
   "version": "3.12.3"
  }
 },
 "nbformat": 4,
 "nbformat_minor": 2
}
