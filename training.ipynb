{
 "cells": [
  {
   "cell_type": "markdown",
   "metadata": {},
   "source": [
    "# Modelo de reconocimiento de letras\n",
    "\n",
    "Por medio del uso del dataset que se encuentra en [keggle](https://www.kaggle.com/datasets/landlord/handwriting-recognition?resource=download), se desea construir un modelo de inteligencia artificial que proporcione la capacidad de analizar entrada de escritura a mano por medio de una entrada por mouse (Para esto se usará tensorflow.js que permite exportar el modelo para usarlo en el navegador de forma sencilla).\n",
    "\n",
    "## Entrenamiento de dígitos\n",
    "\n",
    "Para poder entrenar el modelo en el reconocimiento de letras individuales se usará la base de datos [EMNIST](https://www.kaggle.com/datasets/crawford/emnist?resource=download) lo cual nos ayudará a posteriormente entrenar el model en identificar las letras de cada uno de las palabras. Por lo cual será necesario el uso de los siguientes paquetes para crear y entrenar el modelo."
   ]
  },
  {
   "cell_type": "code",
   "execution_count": 2,
   "metadata": {},
   "outputs": [],
   "source": [
    "import cv2, os\n",
    "import tensorflow_datasets as tfds\n",
    "import matplotlib.pyplot as plt\n",
    "import pandas as pd\n",
    "import numpy as np\n",
    "import tensorflow as tf\n",
    "from tf_keras import layers, losses, models, metrics\n",
    "DATASET_JONAS = \"dataset/archive\"\n",
    "DATASET_JONAS2 = \"dataset/second\"\n",
    "DATASET_EMNIST = \"https://biometrics.nist.gov/cs_links/EMNIST/gzip.zip\"\n",
    "np.set_printoptions(precision=3, suppress=True)"
   ]
  },
  {
   "cell_type": "markdown",
   "metadata": {},
   "source": [
    "### Funciones de normalización\n",
    "\n",
    "Estas funciones nos ayudarán a poder realizar acciones que pueden ser repetidas varias veces, ya sea entrenando el modelo o incluso normalizando la información para poder entrenar al modelo."
   ]
  },
  {
   "cell_type": "code",
   "execution_count": 3,
   "metadata": {},
   "outputs": [],
   "source": [
    "def normalize(image):\n",
    "    return image/255.\n",
    "\n",
    "def norm2(images):\n",
    "    aux = []\n",
    "    for i in range(0,images.__len__()):\n",
    "        imagen_for = images.iloc[i].to_numpy().reshape([28,28])\n",
    "        imagen_for = cv2.flip(imagen_for, 1) \n",
    "        imagen_for = cv2.rotate(imagen_for, cv2.ROTATE_90_COUNTERCLOCKWISE)\n",
    "        aux.append(imagen_for)\n",
    "    return aux\n",
    "\n",
    "def norm(value, label):\n",
    "    val = tf.cast(value, tf.float32)\n",
    "    val = tf.expand_dims(val, axis=-1)\n",
    "    return val, label\n",
    "\n",
    "def grafic(modelo):\n",
    "    plt.xlabel(\"Épocas\")\n",
    "    plt.ylabel(\"Pérdida\")\n",
    "    plt.plot(modelo.history[\"loss\"], label=\"Datos de entrenamiento\")\n",
    "    plt.plot(modelo.history[\"val_loss\"], label=\"Datos de prueba\")\n",
    "    plt.legend(loc=\"upper right\")\n",
    "    plt.ylim([0,1])\n",
    "    plt.show()"
   ]
  },
  {
   "cell_type": "markdown",
   "metadata": {},
   "source": [
    "### Arquitectura del modelo\n",
    "\n",
    "El modelo sigue la estructura de perceptrón multicapa (MLP) donde se tiene "
   ]
  },
  {
   "cell_type": "code",
   "execution_count": 4,
   "metadata": {},
   "outputs": [
    {
     "name": "stdout",
     "output_type": "stream",
     "text": [
      "Model: \"sequential\"\n",
      "_________________________________________________________________\n",
      " Layer (type)                Output Shape              Param #   \n",
      "=================================================================\n",
      " flatten (Flatten)           (None, 784)               0         \n",
      "                                                                 \n",
      " dense (Dense)               (None, 125)               98125     \n",
      "                                                                 \n",
      " dropout (Dropout)           (None, 125)               0         \n",
      "                                                                 \n",
      " dense_1 (Dense)             (None, 125)               15750     \n",
      "                                                                 \n",
      " dropout_1 (Dropout)         (None, 125)               0         \n",
      "                                                                 \n",
      " dense_2 (Dense)             (None, 125)               15750     \n",
      "                                                                 \n",
      " dropout_2 (Dropout)         (None, 125)               0         \n",
      "                                                                 \n",
      " dense_3 (Dense)             (None, 27)                3402      \n",
      "                                                                 \n",
      "=================================================================\n",
      "Total params: 133027 (519.64 KB)\n",
      "Trainable params: 133027 (519.64 KB)\n",
      "Non-trainable params: 0 (0.00 Byte)\n",
      "_________________________________________________________________\n"
     ]
    }
   ],
   "source": [
    "# Modelo\n",
    "m = models.Sequential(layers=[\n",
    "    layers.Flatten(input_shape=(28,28,)),\n",
    "    layers.Dense(125, activation='relu'),\n",
    "    layers.Dropout(0.03),\n",
    "    layers.Dense(125, activation='relu'),\n",
    "    layers.Dropout(0.03),\n",
    "    layers.Dense(125, activation='relu'),\n",
    "    layers.Dropout(0.03),\n",
    "    layers.Dense(27, activation='softmax')])\n",
    "\n",
    "m.compile(optimizer='adam', loss=losses.SparseCategoricalCrossentropy(from_logits=True), metrics=[metrics.SparseCategoricalAccuracy()])\n",
    "m.summary()"
   ]
  },
  {
   "cell_type": "code",
   "execution_count": 5,
   "metadata": {},
   "outputs": [],
   "source": [
    "i=1\n",
    "df_train = pd.read_csv(os.path.join(DATASET_JONAS2, \"emnist-letters-train.csv\"), header=None)\n",
    "df_train = df_train.sample(frac=1)\n",
    "df_train_label = df_train.pop(0)\n",
    "num_train = df_train.__len__()\n",
    "df_train = df_train.map(normalize)\n",
    "ds_train = tf.convert_to_tensor(norm2(df_train), tf.float32)\n",
    "ds_train_labels = tf.convert_to_tensor(df_train_label.to_numpy(), tf.int32)"
   ]
  },
  {
   "cell_type": "code",
   "execution_count": null,
   "metadata": {},
   "outputs": [],
   "source": [
    "# Probando que la normalizacion de los datos de entrenamiento esten correctos\n",
    "cv2.imshow(\"Datos de entrenamiento\",np.array(ds_train[i]))\n",
    "cv2.waitKey(0)\n",
    "print(ds_train_labels[i])"
   ]
  },
  {
   "cell_type": "code",
   "execution_count": 6,
   "metadata": {},
   "outputs": [],
   "source": [
    "df_test = pd.read_csv(os.path.join(DATASET_JONAS2, \"emnist-letters-test.csv\"), header=None)\n",
    "df_test = df_test.sample(frac=1)\n",
    "df_test_label = df_test.pop(0)\n",
    "df_test = df_test.map(normalize)\n",
    "ds_test = tf.convert_to_tensor(norm2(df_train), tf.float32)\n",
    "ds_test_labels = tf.convert_to_tensor(df_train_label.to_numpy(), tf.int32)"
   ]
  },
  {
   "cell_type": "code",
   "execution_count": 7,
   "metadata": {},
   "outputs": [
    {
     "name": "stdout",
     "output_type": "stream",
     "text": [
      "Epoch 1/10\n"
     ]
    },
    {
     "name": "stderr",
     "output_type": "stream",
     "text": [
      "/home/jonasaray/Documents/UCAB/Decimo/Inteligencia artificial/Proyecto/LetterRecognition/venv/lib/python3.12/site-packages/tf_keras/src/backend.py:5729: UserWarning: \"`sparse_categorical_crossentropy` received `from_logits=True`, but the `output` argument was produced by a Softmax activation and thus does not represent logits. Was this intended?\n",
      "  output, from_logits = _get_logits(\n"
     ]
    },
    {
     "name": "stdout",
     "output_type": "stream",
     "text": [
      "2775/2775 [==============================] - 17s 2ms/step - loss: 0.7553 - sparse_categorical_accuracy: 0.7684 - val_loss: 0.4234 - val_sparse_categorical_accuracy: 0.8628\n",
      "Epoch 2/10\n",
      "2775/2775 [==============================] - 5s 2ms/step - loss: 0.4310 - sparse_categorical_accuracy: 0.8616 - val_loss: 0.3087 - val_sparse_categorical_accuracy: 0.8982\n",
      "Epoch 3/10\n",
      "2775/2775 [==============================] - 5s 2ms/step - loss: 0.3655 - sparse_categorical_accuracy: 0.8803 - val_loss: 0.2780 - val_sparse_categorical_accuracy: 0.9065\n",
      "Epoch 4/10\n",
      "2775/2775 [==============================] - 5s 2ms/step - loss: 0.3240 - sparse_categorical_accuracy: 0.8920 - val_loss: 0.2438 - val_sparse_categorical_accuracy: 0.9176\n",
      "Epoch 5/10\n",
      "2775/2775 [==============================] - 5s 2ms/step - loss: 0.2988 - sparse_categorical_accuracy: 0.8999 - val_loss: 0.2171 - val_sparse_categorical_accuracy: 0.9245\n",
      "Epoch 6/10\n",
      "2775/2775 [==============================] - 5s 2ms/step - loss: 0.2794 - sparse_categorical_accuracy: 0.9056 - val_loss: 0.2004 - val_sparse_categorical_accuracy: 0.9306\n",
      "Epoch 7/10\n",
      "2775/2775 [==============================] - 5s 2ms/step - loss: 0.2612 - sparse_categorical_accuracy: 0.9097 - val_loss: 0.2037 - val_sparse_categorical_accuracy: 0.9270\n",
      "Epoch 8/10\n",
      "2775/2775 [==============================] - 6s 2ms/step - loss: 0.2480 - sparse_categorical_accuracy: 0.9137 - val_loss: 0.1862 - val_sparse_categorical_accuracy: 0.9341\n",
      "Epoch 9/10\n",
      "2775/2775 [==============================] - 5s 2ms/step - loss: 0.2360 - sparse_categorical_accuracy: 0.9187 - val_loss: 0.1795 - val_sparse_categorical_accuracy: 0.9352\n",
      "Epoch 10/10\n",
      "2775/2775 [==============================] - 5s 2ms/step - loss: 0.2304 - sparse_categorical_accuracy: 0.9200 - val_loss: 0.1716 - val_sparse_categorical_accuracy: 0.9370\n"
     ]
    }
   ],
   "source": [
    "historial = m.fit(ds_train, ds_train_labels, epochs=10, validation_data=[ds_test, ds_test_labels])"
   ]
  },
  {
   "cell_type": "code",
   "execution_count": 8,
   "metadata": {},
   "outputs": [
    {
     "data": {
      "image/png": "[encoded data removed]",
      "text/plain": [
       "<Figure size 640x480 with 1 Axes>"
      ]
     },
     "metadata": {},
     "output_type": "display_data"
    }
   ],
   "source": [
    "grafic(historial)"
   ]
  },
  {
   "cell_type": "markdown",
   "metadata": {},
   "source": [
    "## Exportando el modelo\n",
    "\n",
    "Una vez que el modelo haya sido entrenado ahora necesitamos exportarlo para hacer uso del mismo dentro del ámbito en desarrollo."
   ]
  },
  {
   "cell_type": "code",
   "execution_count": 9,
   "metadata": {},
   "outputs": [
    {
     "name": "stderr",
     "output_type": "stream",
     "text": [
      "/home/jonasaray/Documents/UCAB/Decimo/Inteligencia artificial/Proyecto/LetterRecognition/venv/lib/python3.12/site-packages/tf_keras/src/engine/training.py:3098: UserWarning: You are saving your model as an HDF5 file via `model.save()`. This file format is considered legacy. We recommend using instead the native TF-Keras format, e.g. `model.save('my_model.keras')`.\n",
      "  saving_api.save_model(\n"
     ]
    }
   ],
   "source": [
    "m.save(filepath=\"trainedModel/handwritting.h5\")"
   ]
  },
  {
   "cell_type": "markdown",
   "metadata": {},
   "source": [
    "## Pruebas\n",
    "\n",
    "Por medio de creación de imagenes podemos verificar que el modelo funciona como esperamos."
   ]
  },
  {
   "cell_type": "code",
   "execution_count": 3,
   "metadata": {},
   "outputs": [],
   "source": [
    "m = models.load_model(\"trainedModel/handwritting.h5\")"
   ]
  },
  {
   "cell_type": "code",
   "execution_count": 6,
   "metadata": {},
   "outputs": [
    {
     "name": "stderr",
     "output_type": "stream",
     "text": [
      "2024-05-06 10:15:33.083017: W external/local_tsl/tsl/framework/cpu_allocator_impl.cc:83] Allocation of 92825600 exceeds 10% of free system memory.\n"
     ]
    },
    {
     "name": "stdout",
     "output_type": "stream",
     "text": [
      "463/463 [==============================] - 5s 688us/step\n"
     ]
    }
   ],
   "source": [
    "prueba = m.predict(df_test)"
   ]
  },
  {
   "cell_type": "code",
   "execution_count": 11,
   "metadata": {},
   "outputs": [
    {
     "name": "stdout",
     "output_type": "stream",
     "text": [
      "n\n"
     ]
    }
   ],
   "source": [
    "LETTERS = ['a','b','c','d','e','f','g','h','i','j','k','l','m','n','o','p','q','r','s','t','u','v','w','x','y','z']\n",
    "index = np.argmax(prueba[1269])\n",
    "print(LETTERS[index-1])"
   ]
  }
 ],
 "metadata": {
  "kernelspec": {
   "display_name": "venv",
   "language": "python",
   "name": "python3"
  },
  "language_info": {
   "codemirror_mode": {
    "name": "ipython",
    "version": 3
   },
   "file_extension": ".py",
   "mimetype": "text/x-python",
   "name": "python",
   "nbconvert_exporter": "python",
   "pygments_lexer": "ipython3",
   "version": "3.12.2"
  }
 },
 "nbformat": 4,
 "nbformat_minor": 2
}
